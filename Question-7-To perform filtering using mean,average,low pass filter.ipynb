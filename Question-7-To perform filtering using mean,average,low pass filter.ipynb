{
 "cells": [
  {
   "cell_type": "code",
   "execution_count": 1,
   "id": "527310a0",
   "metadata": {},
   "outputs": [],
   "source": [
    "import cv2\n",
    "import numpy as np"
   ]
  },
  {
   "cell_type": "code",
   "execution_count": 2,
   "id": "ebe77068",
   "metadata": {},
   "outputs": [],
   "source": [
    "img = cv2.imread(r'C:\\Users\\DEEPMITA RAY\\Pictures\\Screenshots\\ironman.jpeg', 0)"
   ]
  },
  {
   "cell_type": "code",
   "execution_count": 3,
   "id": "2710f18e",
   "metadata": {},
   "outputs": [
    {
     "data": {
      "text/plain": [
       "(2880, 5120)"
      ]
     },
     "execution_count": 3,
     "metadata": {},
     "output_type": "execute_result"
    }
   ],
   "source": [
    "m, n = img.shape\n",
    "m,n"
   ]
  },
  {
   "cell_type": "code",
   "execution_count": 4,
   "id": "2a8b5551",
   "metadata": {},
   "outputs": [
    {
     "data": {
      "text/plain": [
       "array([[0.11111111, 0.11111111, 0.11111111],\n",
       "       [0.11111111, 0.11111111, 0.11111111],\n",
       "       [0.11111111, 0.11111111, 0.11111111]])"
      ]
     },
     "execution_count": 4,
     "metadata": {},
     "output_type": "execute_result"
    }
   ],
   "source": [
    "mask = np.ones([3, 3], dtype = int)\n",
    "mask = mask / 9\n",
    "mask"
   ]
  },
  {
   "cell_type": "code",
   "execution_count": 5,
   "id": "44379d6b",
   "metadata": {},
   "outputs": [
    {
     "data": {
      "text/plain": [
       "True"
      ]
     },
     "execution_count": 5,
     "metadata": {},
     "output_type": "execute_result"
    }
   ],
   "source": [
    "img_new = np.zeros([m, n])\n",
    " \n",
    "for i in range(1, m-1):\n",
    "    for j in range(1, n-1):\n",
    "        temp = img[i-1, j-1]*mask[0, 0]+img[i-1, j]*mask[0, 1]+img[i-1, j + 1]*mask[0, 2]+img[i, j-1]*mask[1, 0]+ img[i, j]*mask[1, 1]+img[i, j + 1]*mask[1, 2]+img[i + 1, j-1]*mask[2, 0]+img[i + 1, j]*mask[2, 1]+img[i + 1, j + 1]*mask[2, 2]\n",
    "        \n",
    "        img_new[i, j]= temp\n",
    "         \n",
    "img_new = img_new.astype(np.uint8)\n",
    "cv2.imwrite('blurred.png', img_new)"
   ]
  },
  {
   "cell_type": "code",
   "execution_count": 6,
   "id": "2cd86735",
   "metadata": {},
   "outputs": [
    {
     "data": {
      "text/plain": [
       "True"
      ]
     },
     "execution_count": 6,
     "metadata": {},
     "output_type": "execute_result"
    }
   ],
   "source": [
    "# Median Spatial Domain Filtering\n",
    " \n",
    "import cv2\n",
    "import numpy as np\n",
    " \n",
    "#Read the image\n",
    "img_noisy1 = cv2.imread(r'C:\\Users\\DEEPMITA RAY\\Pictures\\Screenshots\\ironman.jpeg', 0)\n",
    " \n",
    "# Obtain the number of rows and columns\n",
    "# of the image\n",
    "m, n = img_noisy1.shape\n",
    "  \n",
    "# Traverse the image. For every 3X3 area,\n",
    "# find the median of the pixels and\n",
    "# replace the center pixel by the median\n",
    "img_new1 = np.zeros([m, n])\n",
    "for i in range(1, m-1):\n",
    "    for j in range(1, n-1):\n",
    "        temp = [img_noisy1[i-1, j-1],\n",
    "               img_noisy1[i-1, j],\n",
    "               img_noisy1[i-1, j + 1],\n",
    "               img_noisy1[i, j-1],\n",
    "               img_noisy1[i, j],\n",
    "               img_noisy1[i, j + 1],\n",
    "               img_noisy1[i + 1, j-1],\n",
    "               img_noisy1[i + 1, j],\n",
    "               img_noisy1[i + 1, j + 1]]\n",
    "         \n",
    "        temp = sorted(temp)\n",
    "        img_new1[i, j]= temp[4]\n",
    "img_new1 = img_new1.astype(np.uint8)\n",
    "cv2.imwrite('new_median_filtered.png', img_new1)"
   ]
  },
  {
   "cell_type": "code",
   "execution_count": null,
   "id": "9e17c311",
   "metadata": {},
   "outputs": [],
   "source": []
  },
  {
   "cell_type": "code",
   "execution_count": null,
   "id": "ff4ec75d",
   "metadata": {},
   "outputs": [],
   "source": []
  }
 ],
 "metadata": {
  "kernelspec": {
   "display_name": "Python 3",
   "language": "python",
   "name": "python3"
  },
  "language_info": {
   "codemirror_mode": {
    "name": "ipython",
    "version": 3
   },
   "file_extension": ".py",
   "mimetype": "text/x-python",
   "name": "python",
   "nbconvert_exporter": "python",
   "pygments_lexer": "ipython3",
   "version": "3.8.8"
  }
 },
 "nbformat": 4,
 "nbformat_minor": 5
}
