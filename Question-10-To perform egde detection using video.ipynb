{
 "cells": [
  {
   "cell_type": "code",
   "execution_count": null,
   "id": "b9e10827",
   "metadata": {},
   "outputs": [],
   "source": [
    "import cv2\n",
    "vcapture = cv2.VideoCapture(0) \n",
    "while True:\n",
    "    ret, frame = vcapture.read()\n",
    "    if ret == True:\n",
    "        grayscale = cv2.cvtColor(frame, cv2.COLOR_BGR2GRAY)\n",
    "        edge = cv2.Canny(grayscale, 75, 125)\n",
    "        cv2.imshow('Edge frame', edge)\n",
    "        if cv2.waitKey(20) == ord('q'):\n",
    "            break\n",
    "\n",
    "vcapture.release()\n",
    "cv2.destroyAllWindows()"
   ]
  },
  {
   "cell_type": "code",
   "execution_count": null,
   "id": "6cd2b3e7",
   "metadata": {},
   "outputs": [],
   "source": []
  },
  {
   "cell_type": "code",
   "execution_count": null,
   "id": "8497093f",
   "metadata": {},
   "outputs": [],
   "source": []
  }
 ],
 "metadata": {
  "kernelspec": {
   "display_name": "Python 3",
   "language": "python",
   "name": "python3"
  },
  "language_info": {
   "codemirror_mode": {
    "name": "ipython",
    "version": 3
   },
   "file_extension": ".py",
   "mimetype": "text/x-python",
   "name": "python",
   "nbconvert_exporter": "python",
   "pygments_lexer": "ipython3",
   "version": "3.8.8"
  }
 },
 "nbformat": 4,
 "nbformat_minor": 5
}
