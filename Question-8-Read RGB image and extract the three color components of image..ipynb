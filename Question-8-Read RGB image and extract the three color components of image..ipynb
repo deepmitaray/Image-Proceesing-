{
 "cells": [
  {
   "cell_type": "code",
   "execution_count": 1,
   "id": "7e614758",
   "metadata": {},
   "outputs": [],
   "source": [
    "import matplotlib.image as img\n",
    "import matplotlib.pyplot as plt\n",
    "from scipy.cluster.vq import whiten\n",
    "from scipy.cluster.vq import kmeans\n",
    "import pandas as pd"
   ]
  },
  {
   "cell_type": "code",
   "execution_count": 2,
   "id": "7da08942",
   "metadata": {},
   "outputs": [
    {
     "name": "stdout",
     "output_type": "stream",
     "text": [
      "[[[ 45  39  41]\n",
      "  [ 45  39  41]\n",
      "  [ 50  44  46]\n",
      "  ...\n",
      "  [ 41  26  29]\n",
      "  [ 41  26  29]\n",
      "  [ 46  31  34]]\n",
      "\n",
      " [[ 53  47  49]\n",
      "  [ 52  46  48]\n",
      "  [ 53  47  49]\n",
      "  ...\n",
      "  [ 43  28  31]\n",
      "  [ 40  25  28]\n",
      "  [ 44  29  32]]\n",
      "\n",
      " [[ 46  40  42]\n",
      "  [ 47  41  43]\n",
      "  [ 49  43  45]\n",
      "  ...\n",
      "  [ 43  28  31]\n",
      "  [ 40  25  28]\n",
      "  [ 41  26  29]]\n",
      "\n",
      " ...\n",
      "\n",
      " [[  9   8   6]\n",
      "  [  8   7   5]\n",
      "  [  7   6   4]\n",
      "  ...\n",
      "  [234 174 120]\n",
      "  [225 164 110]\n",
      "  [227 165 114]]\n",
      "\n",
      " [[  8   7   5]\n",
      "  [  8   7   5]\n",
      "  [  7   6   4]\n",
      "  ...\n",
      "  [242 182 128]\n",
      "  [235 175 121]\n",
      "  [238 178 124]]\n",
      "\n",
      " [[  9   8   6]\n",
      "  [  9   8   6]\n",
      "  [  9   8   6]\n",
      "  ...\n",
      "  [244 187 132]\n",
      "  [239 179 125]\n",
      "  [243 183 129]]]\n"
     ]
    }
   ],
   "source": [
    "image = img.imread(r'C:\\Users\\DEEPMITA RAY\\Pictures\\Screenshots\\ironman.jpeg')\n",
    "print(image)"
   ]
  },
  {
   "cell_type": "code",
   "execution_count": 3,
   "id": "a3550d77",
   "metadata": {},
   "outputs": [
    {
     "data": {
      "image/png": "[encoded data removed]",
      "text/plain": [
       "<Figure size 432x288 with 1 Axes>"
      ]
     },
     "metadata": {
      "needs_background": "light"
     },
     "output_type": "display_data"
    }
   ],
   "source": [
    "r = []\n",
    "g = []\n",
    "b = []\n",
    "for row in image:\n",
    "    for temp_r, temp_g, temp_b in row:\n",
    "        r.append(temp_r)\n",
    "        g.append(temp_g)\n",
    "        b.append(temp_b)\n",
    "\n",
    "image_df = pd.DataFrame({'red' : r,\n",
    "                          'green' : g,\n",
    "                          'blue' : b})\n",
    " \n",
    "image_df['scaled_color_red'] = whiten(image_df['red'])\n",
    "image_df['scaled_color_blue'] = whiten(image_df['blue'])\n",
    "image_df['scaled_color_green'] = whiten(image_df['green'])\n",
    " \n",
    "cluster_centers, _ = kmeans(image_df[['scaled_color_red',\n",
    "                                    'scaled_color_blue',\n",
    "                                    'scaled_color_green']], 3)\n",
    " \n",
    "dominant_colors = []\n",
    " \n",
    "red_std, green_std, blue_std = image_df[['red',\n",
    "                                          'green',\n",
    "                                          'blue']].std()\n",
    " \n",
    "for cluster_center in cluster_centers:\n",
    "    red_scaled, green_scaled, blue_scaled = cluster_center\n",
    "    dominant_colors.append((\n",
    "        red_scaled * red_std / 255,\n",
    "        green_scaled * green_std / 255,\n",
    "        blue_scaled * blue_std / 255\n",
    "    ))\n",
    "\n",
    "plt.imshow([dominant_colors])\n",
    "plt.show()"
   ]
  },
  {
   "cell_type": "code",
   "execution_count": null,
   "id": "8e09f054",
   "metadata": {},
   "outputs": [],
   "source": []
  },
  {
   "cell_type": "code",
   "execution_count": null,
   "id": "f9f6b31e",
   "metadata": {},
   "outputs": [],
   "source": []
  }
 ],
 "metadata": {
  "kernelspec": {
   "display_name": "Python 3",
   "language": "python",
   "name": "python3"
  },
  "language_info": {
   "codemirror_mode": {
    "name": "ipython",
    "version": 3
   },
   "file_extension": ".py",
   "mimetype": "text/x-python",
   "name": "python",
   "nbconvert_exporter": "python",
   "pygments_lexer": "ipython3",
   "version": "3.8.8"
  }
 },
 "nbformat": 4,
 "nbformat_minor": 5
}
