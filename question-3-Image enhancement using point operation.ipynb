{
 "cells": [
  {
   "cell_type": "raw",
   "id": "a87e59cd",
   "metadata": {},
   "source": [
    "Operations that are used to modify a pixel value without affecting the neighboring pixels are known as Point Operations. Point operations will,\n",
    "    not change the size of the image\n",
    "    not change the geometry of the image\n",
    "    not change the local structure of the image\n",
    "    not affect the neighbor pixels\n",
    "    \n",
    "There are two types of point operations that exist. Homogenous or Global Point Operations"
   ]
  },
  {
   "cell_type": "code",
   "execution_count": 1,
   "id": "951725e7",
   "metadata": {},
   "outputs": [],
   "source": [
    "import cv2 \n",
    "import numpy as np"
   ]
  },
  {
   "cell_type": "code",
   "execution_count": 2,
   "id": "a955bbb4",
   "metadata": {},
   "outputs": [],
   "source": [
    "img = cv2.imread(r'C:\\Users\\DEEPMITA RAY\\Pictures\\Screenshots\\ironman.jpeg',0) "
   ]
  },
  {
   "cell_type": "code",
   "execution_count": 3,
   "id": "c2bf851c",
   "metadata": {},
   "outputs": [
    {
     "data": {
      "text/plain": [
       "(2880, 5120)"
      ]
     },
     "execution_count": 3,
     "metadata": {},
     "output_type": "execute_result"
    }
   ],
   "source": [
    "m,n = img.shape\n",
    "m,n"
   ]
  },
  {
   "cell_type": "code",
   "execution_count": 4,
   "id": "8def3d78",
   "metadata": {},
   "outputs": [
    {
     "data": {
      "text/plain": [
       "255"
      ]
     },
     "execution_count": 4,
     "metadata": {},
     "output_type": "execute_result"
    }
   ],
   "source": [
    "L = img.max()\n",
    "L"
   ]
  },
  {
   "cell_type": "code",
   "execution_count": 5,
   "id": "6634d0d0",
   "metadata": {},
   "outputs": [
    {
     "data": {
      "text/plain": [
       "array([[214, 214, 209, ..., 224, 224, 219],\n",
       "       [206, 207, 206, ..., 222, 225, 221],\n",
       "       [213, 212, 210, ..., 222, 225, 224],\n",
       "       ...,\n",
       "       [247, 248, 249, ...,  69,  79,  77],\n",
       "       [248, 248, 249, ...,  61,  68,  65],\n",
       "       [247, 247, 247, ...,  57,  64,  60]], dtype=uint8)"
      ]
     },
     "execution_count": 5,
     "metadata": {},
     "output_type": "execute_result"
    }
   ],
   "source": [
    "img_neg = L-img\n",
    "img_neg"
   ]
  },
  {
   "cell_type": "code",
   "execution_count": 6,
   "id": "ec1c3a75",
   "metadata": {},
   "outputs": [
    {
     "data": {
      "text/plain": [
       "True"
      ]
     },
     "execution_count": 6,
     "metadata": {},
     "output_type": "execute_result"
    }
   ],
   "source": [
    "cv2.imwrite('image_Neg.png', img_neg)"
   ]
  },
  {
   "cell_type": "code",
   "execution_count": 7,
   "id": "f69d28d5",
   "metadata": {},
   "outputs": [],
   "source": [
    "T = 150\n",
    "img_thresh = np.zeros((m,n), dtype = int) \n",
    "   \n",
    "for i in range(m):\n",
    "      \n",
    "    for j in range(n):\n",
    "          \n",
    "        if img[i,j] <  T: \n",
    "            img_thresh[i,j]= 0\n",
    "        else:\n",
    "            img_thresh[i,j] = 255"
   ]
  },
  {
   "cell_type": "code",
   "execution_count": 8,
   "id": "c9780428",
   "metadata": {},
   "outputs": [
    {
     "data": {
      "text/plain": [
       "True"
      ]
     },
     "execution_count": 8,
     "metadata": {},
     "output_type": "execute_result"
    }
   ],
   "source": [
    "cv2.imwrite('image_Tresh.png', img_thresh)"
   ]
  },
  {
   "cell_type": "code",
   "execution_count": 9,
   "id": "a69beced",
   "metadata": {},
   "outputs": [],
   "source": [
    "T1 = 100\n",
    "T2 = 180\n",
    "img_thresh_back = np.zeros((m,n), dtype = int)\n",
    "   \n",
    "for i in range(m):\n",
    "      \n",
    "    for j in range(n):\n",
    "          \n",
    "        if T1 < img[i,j] < T2: \n",
    "            img_thresh_back[i,j]= 255\n",
    "        else:\n",
    "            img_thresh_back[i,j] = img[i,j]"
   ]
  },
  {
   "cell_type": "code",
   "execution_count": 10,
   "id": "66ebf672",
   "metadata": {},
   "outputs": [
    {
     "data": {
      "text/plain": [
       "True"
      ]
     },
     "execution_count": 10,
     "metadata": {},
     "output_type": "execute_result"
    }
   ],
   "source": [
    "cv2.imwrite('Image_Thresh_Back.png', img_thresh_back)"
   ]
  },
  {
   "cell_type": "code",
   "execution_count": null,
   "id": "4bc025a8",
   "metadata": {},
   "outputs": [],
   "source": []
  },
  {
   "cell_type": "code",
   "execution_count": null,
   "id": "b50d27ac",
   "metadata": {},
   "outputs": [],
   "source": []
  }
 ],
 "metadata": {
  "kernelspec": {
   "display_name": "Python 3",
   "language": "python",
   "name": "python3"
  },
  "language_info": {
   "codemirror_mode": {
    "name": "ipython",
    "version": 3
   },
   "file_extension": ".py",
   "mimetype": "text/x-python",
   "name": "python",
   "nbconvert_exporter": "python",
   "pygments_lexer": "ipython3",
   "version": "3.8.8"
  }
 },
 "nbformat": 4,
 "nbformat_minor": 5
}
